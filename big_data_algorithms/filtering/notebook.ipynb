{
 "cells": [
  {
   "cell_type": "code",
   "execution_count": 7,
   "metadata": {
    "collapsed": true
   },
   "outputs": [
    {
     "name": "stdout",
     "output_type": "stream",
     "text": [
      "0.1152251956613597\n",
      "[1, 1, 1, 1, 1, 1, 0, 1, 1, 1, 1, 0, 0, 1, 0, 1, 1, 1, 0, 1, 0, 0, 0, 0, 0, 0, 0, 0, 1, 0, 0, 1]\n"
     ]
    }
   ],
   "source": [
    "import big_data_algorithms.filtering as filt\n",
    "\n",
    "hash_a = lambda x: (2 * x + 1) % 32\n",
    "hash_b = lambda x: (3 * x + 7) % 32\n",
    "hash_c = lambda x: (4 * x) % 32\n",
    "\n",
    "bloom = filt.BloomFilter([hash_a, hash_b, hash_c], 32)\n",
    "\n",
    "X = [1, 0, 0, 9, 2, 1, 4, 8, 7, 2, 1]\n",
    "\n",
    "bloom.insert_all(X)\n",
    "\n",
    "print(bloom.false_positive_rate())\n",
    "print(bloom.B)"
   ]
  }
 ],
 "metadata": {
  "kernelspec": {
   "display_name": "Python 3",
   "language": "python",
   "name": "python3"
  },
  "language_info": {
   "codemirror_mode": {
    "name": "ipython",
    "version": 2
   },
   "file_extension": ".py",
   "mimetype": "text/x-python",
   "name": "python",
   "nbconvert_exporter": "python",
   "pygments_lexer": "ipython2",
   "version": "2.7.6"
  }
 },
 "nbformat": 4,
 "nbformat_minor": 0
}