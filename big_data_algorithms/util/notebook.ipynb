{
 "cells": [
  {
   "cell_type": "markdown",
   "source": [
    "## 1st Frequency Moment"
   ],
   "metadata": {
    "collapsed": false,
    "pycharm": {
     "name": "#%% md\n"
    }
   }
  },
  {
   "cell_type": "markdown",
   "source": [
    "### Misra-Gries Algorithm"
   ],
   "metadata": {
    "collapsed": false,
    "pycharm": {
     "name": "#%% md\n"
    }
   }
  },
  {
   "cell_type": "code",
   "execution_count": 1,
   "outputs": [
    {
     "name": "stdout",
     "output_type": "stream",
     "text": [
      "FIRST PASS\n",
      "| x: 1      | x in C?: True         | C: {1: 1}                      |\n",
      "| x: 0      | x in C?: True         | C: {1: 1, 0: 1}                |\n",
      "| x: 0      | x in C?: True         | C: {1: 1, 0: 2}                |\n",
      "| x: 9      | x in C?: True         | C: {1: 1, 0: 2, 9: 1}          |\n",
      "| x: 1      | x in C?: True         | C: {1: 2, 0: 2, 9: 1}          |\n",
      "| x: 1      | x in C?: True         | C: {1: 3, 0: 2, 9: 1}          |\n",
      "| x: 2      | x in C?: False        | C: {1: 2, 0: 1}                |\n",
      "| x: 8      | x in C?: True         | C: {1: 2, 0: 1, 8: 1}          |\n",
      "| x: 4      | x in C?: False        | C: {1: 1}                      |\n",
      "| x: 2      | x in C?: True         | C: {1: 1, 2: 1}                |\n",
      "| x: 7      | x in C?: True         | C: {1: 1, 2: 1, 7: 1}          |\n",
      "SECOND PASS\n",
      "| x: 1      | x in C?: True         | C: {1: 1, 2: 0, 7: 0}          |\n",
      "| x: 0      | x in C?: False        | C: {1: 1, 2: 0, 7: 0}          |\n",
      "| x: 0      | x in C?: False        | C: {1: 1, 2: 0, 7: 0}          |\n",
      "| x: 9      | x in C?: False        | C: {1: 1, 2: 0, 7: 0}          |\n",
      "| x: 1      | x in C?: True         | C: {1: 2, 2: 0, 7: 0}          |\n",
      "| x: 1      | x in C?: True         | C: {1: 3, 2: 0, 7: 0}          |\n",
      "| x: 2      | x in C?: True         | C: {1: 3, 2: 1, 7: 0}          |\n",
      "| x: 8      | x in C?: False        | C: {1: 3, 2: 1, 7: 0}          |\n",
      "| x: 4      | x in C?: False        | C: {1: 3, 2: 1, 7: 0}          |\n",
      "| x: 2      | x in C?: True         | C: {1: 3, 2: 2, 7: 0}          |\n",
      "| x: 7      | x in C?: True         | C: {1: 3, 2: 2, 7: 1}          |\n"
     ]
    },
    {
     "data": {
      "text/plain": "{1: 3, 2: 2, 7: 1}"
     },
     "execution_count": 1,
     "metadata": {},
     "output_type": "execute_result"
    }
   ],
   "source": [
    "import big_data_algorithms.synopses as synopses\n",
    "\n",
    "X = [1, 0, 0, 9, 1, 1, 2, 8, 4, 2, 7]\n",
    "P = [3, 5, 7]\n",
    "\n",
    "synopses.misra_gries(X, 4)"
   ],
   "metadata": {
    "collapsed": false,
    "pycharm": {
     "name": "#%%\n"
    }
   }
  },
  {
   "cell_type": "markdown",
   "source": [
    "### Space Saving Algorithm"
   ],
   "metadata": {
    "collapsed": false,
    "pycharm": {
     "name": "#%% md\n"
    }
   }
  },
  {
   "cell_type": "code",
   "execution_count": 2,
   "outputs": [
    {
     "name": "stdout",
     "output_type": "stream",
     "text": [
      "FIRST PASS\n",
      "| x: 1      | x in C?: True         | C: {1: 1}                      |\n",
      "| x: 0      | x in C?: True         | C: {1: 1, 0: 1}                |\n",
      "| x: 0      | x in C?: True         | C: {1: 1, 0: 2}                |\n",
      "| x: 9      | x in C?: True         | C: {1: 1, 0: 2, 9: 1}          |\n",
      "| x: 1      | x in C?: True         | C: {1: 2, 0: 2, 9: 1}          |\n",
      "| x: 1      | x in C?: True         | C: {1: 3, 0: 2, 9: 1}          |\n",
      "| x: 2      | x in C?: True         | C: {1: 3, 0: 2, 2: 2}          |\n",
      "| x: 8      | x in C?: True         | C: {1: 3, 2: 2, 8: 3}          |\n",
      "| x: 4      | x in C?: True         | C: {1: 3, 8: 3, 4: 3}          |\n",
      "| x: 2      | x in C?: True         | C: {8: 3, 4: 3, 2: 4}          |\n",
      "| x: 7      | x in C?: True         | C: {4: 3, 2: 4, 7: 4}          |\n",
      "SECOND PASS\n",
      "| x: 1      | x in C?: False        | C: {4: 0, 2: 0, 7: 0}          |\n",
      "| x: 0      | x in C?: False        | C: {4: 0, 2: 0, 7: 0}          |\n",
      "| x: 0      | x in C?: False        | C: {4: 0, 2: 0, 7: 0}          |\n",
      "| x: 9      | x in C?: False        | C: {4: 0, 2: 0, 7: 0}          |\n",
      "| x: 1      | x in C?: False        | C: {4: 0, 2: 0, 7: 0}          |\n",
      "| x: 1      | x in C?: False        | C: {4: 0, 2: 0, 7: 0}          |\n",
      "| x: 2      | x in C?: True         | C: {4: 0, 2: 1, 7: 0}          |\n",
      "| x: 8      | x in C?: False        | C: {4: 0, 2: 1, 7: 0}          |\n",
      "| x: 4      | x in C?: True         | C: {4: 1, 2: 1, 7: 0}          |\n",
      "| x: 2      | x in C?: True         | C: {4: 1, 2: 2, 7: 0}          |\n",
      "| x: 7      | x in C?: True         | C: {4: 1, 2: 2, 7: 1}          |\n"
     ]
    },
    {
     "data": {
      "text/plain": "{4: 1, 2: 2, 7: 1}"
     },
     "execution_count": 2,
     "metadata": {},
     "output_type": "execute_result"
    }
   ],
   "source": [
    "import big_data_algorithms.synopses as synopses\n",
    "\n",
    "X = [1, 0, 0, 9, 1, 1, 2, 8, 4, 2, 7]\n",
    "P = [3, 5, 7]\n",
    "\n",
    "synopses.space_saving(X, 4)"
   ],
   "metadata": {
    "collapsed": false,
    "pycharm": {
     "name": "#%%\n"
    }
   }
  },
  {
   "cell_type": "markdown",
   "source": [
    "### 2nd Frequency Moment, AMS Algorithm"
   ],
   "metadata": {
    "collapsed": false,
    "pycharm": {
     "name": "#%% md\n"
    }
   }
  },
  {
   "cell_type": "code",
   "execution_count": 3,
   "metadata": {
    "collapsed": true
   },
   "outputs": [
    {
     "name": "stdout",
     "output_type": "stream",
     "text": [
      "| i: 0  | x_i: 1    | i in P?: False        | C: {}                          |\n",
      "| i: 1  | x_i: 0    | i in P?: False        | C: {}                          |\n",
      "| i: 2  | x_i: 0    | i in P?: False        | C: {}                          |\n",
      "| i: 3  | x_i: 9    | i in P?: True         | C: {9: 1}                      |\n",
      "| i: 4  | x_i: 1    | i in P?: False        | C: {9: 1}                      |\n",
      "| i: 5  | x_i: 1    | i in P?: True         | C: {9: 1, 1: 1}                |\n",
      "| i: 6  | x_i: 2    | i in P?: False        | C: {9: 1, 1: 1}                |\n",
      "| i: 7  | x_i: 8    | i in P?: True         | C: {9: 1, 1: 1, 8: 1}          |\n",
      "| i: 8  | x_i: 4    | i in P?: False        | C: {9: 1, 1: 1, 8: 1}          |\n",
      "| i: 9  | x_i: 2    | i in P?: False        | C: {9: 1, 1: 1, 8: 1}          |\n",
      "| i: 10 | x_i: 7    | i in P?: False        | C: {9: 1, 1: 1, 8: 1}          |\n"
     ]
    },
    {
     "data": {
      "text/plain": "11.0"
     },
     "execution_count": 3,
     "metadata": {},
     "output_type": "execute_result"
    }
   ],
   "source": [
    "import big_data_algorithms.synopses as synopses\n",
    "\n",
    "X = [1, 0, 0, 9, 1, 1, 2, 8, 4, 2, 7]\n",
    "P = [3, 5, 7]\n",
    "\n",
    "synopses.ams_algorithm(X, 3, 11, P)"
   ]
  },
  {
   "cell_type": "code",
   "execution_count": 4,
   "outputs": [
    {
     "data": {
      "text/plain": "21"
     },
     "execution_count": 4,
     "metadata": {},
     "output_type": "execute_result"
    }
   ],
   "source": [
    "synopses.actual_m2(X)"
   ],
   "metadata": {
    "collapsed": false,
    "pycharm": {
     "name": "#%%\n"
    }
   }
  }
 ],
 "metadata": {
  "kernelspec": {
   "display_name": "Python 3",
   "language": "python",
   "name": "python3"
  },
  "language_info": {
   "codemirror_mode": {
    "name": "ipython",
    "version": 2
   },
   "file_extension": ".py",
   "mimetype": "text/x-python",
   "name": "python",
   "nbconvert_exporter": "python",
   "pygments_lexer": "ipython2",
   "version": "2.7.6"
  }
 },
 "nbformat": 4,
 "nbformat_minor": 0
}