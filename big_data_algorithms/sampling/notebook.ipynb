{
 "cells": [
  {
   "cell_type": "code",
   "execution_count": 1,
   "outputs": [
    {
     "name": "stdout",
     "output_type": "stream",
     "text": [
      "| i: 0  | x_i: 1    | r_i: 0.1      | m: 7  | skip?: False  | B: []                          |\n",
      "| i: 1  | x_i: 2    | r_i: 0.9      | m: 7  | skip?: False  | B: []                          |\n",
      "| i: 2  | x_i: 3    | r_i: 0.2      | m: 7  | skip?: False  | B: []                          |\n",
      "| i: 3  | x_i: 4    | r_i: 0.8      | m: 7  | skip?: False  | B: []                          |\n",
      "| i: 4  | x_i: 5    | r_i: 0.1      | m: 7  | skip?: False  | B: []                          |\n",
      "| i: 5  | x_i: 6    | r_i: 0.3      | m: 7  | skip?: False  | B: []                          |\n",
      "| i: 6  | x_i: 7    | r_i: 0.0      | m: 7  | skip?: False  | B: []                          |\n",
      "| i: 7  | x_i: 8    | r_i: 0.4      | m: 7  | skip?: True   | B: [8]                         |\n",
      "| i: 8  | x_i: 9    | r_i: 0.1      | m: 10 | skip?: False  | B: [8]                         |\n",
      "| i: 9  | x_i: 10   | r_i: 0.5      | m: 10 | skip?: False  | B: [8]                         |\n",
      "| i: 10 | x_i: 11   | r_i: 0.2      | m: 10 | skip?: True   | B: [8, 11]                     |\n",
      "| i: 11 | x_i: 12   | r_i: 0.6      | m: 15 | skip?: False  | B: [8, 11]                     |\n",
      "| i: 12 | x_i: 13   | r_i: 0.4      | m: 15 | skip?: False  | B: [8, 11]                     |\n",
      "| i: 13 | x_i: 14   | r_i: 0.7      | m: 15 | skip?: False  | B: [8, 11]                     |\n",
      "| i: 14 | x_i: 15   | r_i: 0.7      | m: 15 | skip?: False  | B: [8, 11]                     |\n",
      "| i: 15 | x_i: 16   | r_i: 0.2      | m: 15 | skip?: True   | B: [8, 11, 16]                 |\n"
     ]
    },
    {
     "data": {
      "text/plain": "[8, 11, 16]"
     },
     "execution_count": 1,
     "metadata": {},
     "output_type": "execute_result"
    }
   ],
   "source": [
    "import big_data_algorithms.sampling as samp\n",
    "\n",
    "X = [i + 1 for i in range(16)]\n",
    "R = [0.1, 0.9, 0.2, 0.8, 0.1, 0.3, 0.0, 0.4, 0.1, 0.5, 0.2, 0.6, 0.4, 0.7, 0.7, 0.2]\n",
    "\n",
    "samp.bernoulli_sample(X, 0.3, R)"
   ],
   "metadata": {
    "collapsed": false,
    "pycharm": {
     "name": "#%%\n"
    }
   }
  },
  {
   "cell_type": "code",
   "execution_count": 2,
   "outputs": [
    {
     "name": "stdout",
     "output_type": "stream",
     "text": [
      "| i: 0  | x_i: 1    | r_i: 0.1      | skip?: False  | B: [1]                         |\n",
      "| i: 1  | x_i: 2    | r_i: 0.9      | skip?: True   | B: [1]                         |\n",
      "| i: 2  | x_i: 3    | r_i: 0.2      | skip?: False  | B: [1, 3]                      |\n",
      "| i: 3  | x_i: 4    | r_i: 0.8      | skip?: True   | B: [1, 3]                      |\n",
      "| i: 4  | x_i: 5    | r_i: 0.1      | skip?: False  | B: [1, 3, 5]                   |\n",
      "| i: 5  | x_i: 6    | r_i: 0.3      | skip?: False  | B: [1, 3, 5, 6]                |\n",
      "| i: 6  | x_i: 7    | r_i: 0.0      | skip?: False  | B: [1, 3, 5, 6, 7]             |\n",
      "| i: 7  | x_i: 8    | r_i: 0.4      | skip?: True   | B: [1, 3, 5, 6, 7]             |\n",
      "| i: 8  | x_i: 9    | r_i: 0.1      | skip?: False  | B: [1, 3, 5, 6, 7, 9]          |\n",
      "| i: 9  | x_i: 10   | r_i: 0.5      | skip?: True   | B: [1, 3, 5, 6, 7, 9]          |\n",
      "| i: 10 | x_i: 11   | r_i: 0.2      | skip?: False  | B: [1, 3, 5, 6, 7, 9, 11]      |\n",
      "| i: 11 | x_i: 12   | r_i: 0.6      | skip?: True   | B: [1, 3, 5, 6, 7, 9, 11]      |\n",
      "| i: 12 | x_i: 13   | r_i: 0.4      | skip?: True   | B: [1, 3, 5, 6, 7, 9, 11]      |\n",
      "| i: 13 | x_i: 14   | r_i: 0.7      | skip?: True   | B: [1, 3, 5, 6, 7, 9, 11]      |\n",
      "| i: 14 | x_i: 15   | r_i: 0.7      | skip?: True   | B: [1, 3, 5, 6, 7, 9, 11]      |\n",
      "| i: 15 | x_i: 16   | r_i: 0.2      | skip?: False  | B: [1, 3, 5, 6, 7, 9, 11, 16]  |\n"
     ]
    },
    {
     "data": {
      "text/plain": "[1, 3, 5, 6, 7, 9, 11, 16]"
     },
     "execution_count": 2,
     "metadata": {},
     "output_type": "execute_result"
    }
   ],
   "source": [
    "import big_data_algorithms.sampling as samp\n",
    "\n",
    "X = [i + 1 for i in range(16)]\n",
    "R = [0.1, 0.9, 0.2, 0.8, 0.1, 0.3, 0.0, 0.4, 0.1, 0.5, 0.2, 0.6, 0.4, 0.7, 0.7, 0.2]\n",
    "\n",
    "samp.naive_bernoulli_sample(X, 0.3, R)"
   ],
   "metadata": {
    "collapsed": false,
    "pycharm": {
     "name": "#%%\n"
    }
   }
  },
  {
   "cell_type": "code",
   "execution_count": 1,
   "outputs": [
    {
     "name": "stdout",
     "output_type": "stream",
     "text": [
      "| i: 1  | x_i: 1    | r: 0          | add?: True    | S: [1]                         |\n",
      "| i: 2  | x_i: 2    | r: 0          | add?: True    | S: [1, 2]                      |\n",
      "| i: 3  | x_i: 3    | r: 0          | add?: True    | S: [1, 2, 3]                   |\n",
      "| i: 4  | x_i: 4    | r: 0.8        | add?: False   | S: [1, 2, 3]                   |\n",
      "| i: 5  | x_i: 5    | r: 0.1        | add?: True    | S: [1, 5, 3]                   |\n",
      "| i: 6  | x_i: 6    | r: 0.3        | add?: True    | S: [1, 5, 6]                   |\n",
      "| i: 7  | x_i: 7    | r: 0.0        | add?: True    | S: [7, 5, 6]                   |\n",
      "| i: 8  | x_i: 8    | r: 0.4        | add?: False   | S: [7, 5, 6]                   |\n",
      "| i: 9  | x_i: 9    | r: 0.1        | add?: True    | S: [7, 5, 9]                   |\n",
      "| i: 10 | x_i: 10   | r: 0.5        | add?: False   | S: [7, 5, 9]                   |\n",
      "| i: 11 | x_i: 11   | r: 0.2        | add?: True    | S: [7, 11, 9]                  |\n",
      "| i: 12 | x_i: 12   | r: 0.6        | add?: False   | S: [7, 11, 9]                  |\n",
      "| i: 13 | x_i: 13   | r: 0.4        | add?: False   | S: [7, 11, 9]                  |\n",
      "| i: 14 | x_i: 14   | r: 0.7        | add?: False   | S: [7, 11, 9]                  |\n",
      "| i: 15 | x_i: 15   | r: 0.7        | add?: False   | S: [7, 11, 9]                  |\n",
      "| i: 16 | x_i: 16   | r: 0.2        | add?: False   | S: [7, 11, 9]                  |\n"
     ]
    },
    {
     "data": {
      "text/plain": "[7, 11, 9]"
     },
     "execution_count": 1,
     "metadata": {},
     "output_type": "execute_result"
    }
   ],
   "source": [
    "import big_data_algorithms.sampling as samp\n",
    "\n",
    "X = [i + 1 for i in range(16)]\n",
    "R = [0.1, 0.9, 0.2, 0.8, 0.1, 0.3, 0.0, 0.4, 0.1, 0.5, 0.2, 0.6, 0.4, 0.7, 0.7, 0.2]\n",
    "\n",
    "samp.reservoir_sample(X, 3, R)\n",
    "\n"
   ],
   "metadata": {
    "collapsed": false,
    "pycharm": {
     "name": "#%%\n"
    }
   }
  }
 ],
 "metadata": {
  "kernelspec": {
   "display_name": "Python 3",
   "language": "python",
   "name": "python3"
  },
  "language_info": {
   "codemirror_mode": {
    "name": "ipython",
    "version": 2
   },
   "file_extension": ".py",
   "mimetype": "text/x-python",
   "name": "python",
   "nbconvert_exporter": "python",
   "pygments_lexer": "ipython2",
   "version": "2.7.6"
  }
 },
 "nbformat": 4,
 "nbformat_minor": 0
}